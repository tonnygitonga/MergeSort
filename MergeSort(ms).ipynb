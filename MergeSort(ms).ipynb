{
 "cells": [
  {
   "cell_type": "markdown",
   "metadata": {
    "id": "5aHbuXDiclqz"
   },
   "source": [
    "# **Merge Sort Algorithm**"
   ]
  },
  {
   "cell_type": "code",
   "execution_count": 1,
   "metadata": {
    "id": "KrkYD_JBe4BQ"
   },
   "outputs": [],
   "source": [
    "import time\n",
    "import random"
   ]
  },
  {
   "cell_type": "markdown",
   "metadata": {
    "id": "eyForUVQfGcT"
   },
   "source": [
    "merge sort algo"
   ]
  },
  {
   "cell_type": "code",
   "execution_count": 2,
   "metadata": {
    "id": "X08CjA0cfIf8"
   },
   "outputs": [],
   "source": [
    "def merge_sort(arr):\n",
    "    # Base case: If the array has 0 or 1 element, it is already sorted\n",
    "    if len(arr) <= 1:\n",
    "        return arr\n",
    "    \n",
    "    # Find the middle index of the array\n",
    "    mid = len(arr) // 2\n",
    "    \n",
    "    # Divide the array into two halves\n",
    "    left_half = arr[:mid]\n",
    "    right_half = arr[mid:]\n",
    "    \n",
    "    # Recursive call to merge_sort for the left and right halves\n",
    "    left_half = merge_sort(left_half)\n",
    "    right_half = merge_sort(right_half)\n",
    "    \n",
    "    # Merge the sorted left and right halves\n",
    "    sorted_arr = merge(left_half, right_half)\n",
    "    \n",
    "    return sorted_arr\n"
   ]
  },
  {
   "cell_type": "markdown",
   "metadata": {
    "id": "pBTPDiYLfSXj"
   },
   "source": [
    "merge function"
   ]
  },
  {
   "cell_type": "code",
   "execution_count": 3,
   "metadata": {
    "id": "kj77h5tffK4t"
   },
   "outputs": [],
   "source": [
    "def merge(left, right):\n",
    "    # Create an empty array to store the sorted elements\n",
    "    merged = []\n",
    "    \n",
    "    # Initialize pointers for the left and right arrays\n",
    "    i = 0  # Pointer for the left array\n",
    "    j = 0  # Pointer for the right array\n",
    "    \n",
    "    # Compare and merge elements from both arrays\n",
    "    while i < len(left) and j < len(right):\n",
    "        if left[i] <= right[j]:\n",
    "            merged.append(left[i])\n",
    "            i += 1\n",
    "        else:\n",
    "            merged.append(right[j])\n",
    "            j += 1\n",
    "    \n",
    "    # Add the remaining elements from the left array\n",
    "    while i < len(left):\n",
    "        merged.append(left[i])\n",
    "        i += 1\n",
    "    \n",
    "    # Add the remaining elements from the right array\n",
    "    while j < len(right):\n",
    "        merged.append(right[j])\n",
    "        j += 1\n",
    "    \n",
    "    return merged\n"
   ]
  },
  {
   "cell_type": "markdown",
   "metadata": {
    "id": "LM0QTu3DfXQs"
   },
   "source": [
    "calculating time complexity"
   ]
  },
  {
   "cell_type": "code",
   "execution_count": null,
   "metadata": {
    "colab": {
     "base_uri": "https://localhost:8080/"
    },
    "id": "eQnoRDdLfWP1",
    "outputId": "797cbfa3-9397-4789-ac76-d9e11e9ea220"
   },
   "outputs": [],
   "source": [
    "def calculate_time_complexity():\n",
    "\n",
    "    for _ in range(5):\n",
    "        size = int(input(\"Enter the input size: \"))\n",
    "        \n",
    "        # Generate a list of random numbers with the given size\n",
    "        numbers = [random.randint(1, 1000) for _ in range(size)]\n",
    "        \n",
    "        # Start the timer\n",
    "        start_time = time.time()\n",
    "        \n",
    "        # Call the merge_sort function\n",
    "        sorted_numbers = merge_sort(numbers)\n",
    "        \n",
    "        # Stop the timer\n",
    "        end_time = time.time()\n",
    "        \n",
    "        # Calculate the elapsed time\n",
    "        elapsed_time = (end_time - start_time) * 1000\n",
    "        \n",
    "        print(f\"Input size: {size} - Elapsed time: {elapsed_time} milliseconds\")\n",
    "\n",
    "calculate_time_complexity()\n"
   ]
  },
  {
   "cell_type": "code",
   "execution_count": null,
   "metadata": {
    "id": "VtAIfw8qgHEK"
   },
   "outputs": [],
   "source": []
  }
 ],
 "metadata": {
  "colab": {
   "provenance": []
  },
  "kernelspec": {
   "display_name": "Python 3 (ipykernel)",
   "language": "python",
   "name": "python3"
  },
  "language_info": {
   "codemirror_mode": {
    "name": "ipython",
    "version": 3
   },
   "file_extension": ".py",
   "mimetype": "text/x-python",
   "name": "python",
   "nbconvert_exporter": "python",
   "pygments_lexer": "ipython3",
   "version": "3.10.9"
  }
 },
 "nbformat": 4,
 "nbformat_minor": 1
}
