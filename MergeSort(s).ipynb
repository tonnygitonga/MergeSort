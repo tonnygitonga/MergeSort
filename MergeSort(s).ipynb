{
 "cells": [
  {
   "cell_type": "markdown",
   "metadata": {},
   "source": [
    "# Merge Sort Algorithm"
   ]
  },
  {
   "cell_type": "code",
   "execution_count": 1,
   "metadata": {
    "id": "ZD5ZBv5hxYa7"
   },
   "outputs": [],
   "source": [
    "import time\n",
    "import random"
   ]
  },
  {
   "cell_type": "markdown",
   "metadata": {},
   "source": [
    "merge sort algo"
   ]
  },
  {
   "cell_type": "code",
   "execution_count": 2,
   "metadata": {
    "id": "5fLrsgFRxQMK"
   },
   "outputs": [],
   "source": [
    "def merge_sort(arr):\n",
    "    # Base case: If the array has 0 or 1 element, it is already sorted\n",
    "    if len(arr) <= 1:\n",
    "        return arr\n",
    "    \n",
    "    # Find the middle index of the array\n",
    "    mid = len(arr) // 2\n",
    "    \n",
    "    # Divide the array into two halves\n",
    "    left_half = arr[:mid]\n",
    "    right_half = arr[mid:]\n",
    "    \n",
    "    # Recursive call to merge_sort for the left and right halves\n",
    "    left_half = merge_sort(left_half)\n",
    "    right_half = merge_sort(right_half)\n",
    "    \n",
    "    # Merge the sorted left and right halves\n",
    "    sorted_arr = merge(left_half, right_half)\n",
    "    \n",
    "    return sorted_arr\n"
   ]
  },
  {
   "cell_type": "markdown",
   "metadata": {},
   "source": [
    "merge function"
   ]
  },
  {
   "cell_type": "code",
   "execution_count": 3,
   "metadata": {
    "id": "SsCtoS50xQDB"
   },
   "outputs": [],
   "source": [
    "def merge(left, right):\n",
    "    merged = []\n",
    "    \n",
    "    # Initialize pointers for the left and right arrays\n",
    "    i = 0  # left\n",
    "    j = 0  # right\n",
    "    \n",
    "    # Compare and merge elements from both arrays\n",
    "    while i < len(left) and j < len(right):\n",
    "        if left[i] <= right[j]:\n",
    "            merged.append(left[i])\n",
    "            i += 1\n",
    "        else:\n",
    "            merged.append(right[j])\n",
    "            j += 1\n",
    "    \n",
    "    # Add the remaining elements from the left array\n",
    "    while i < len(left):\n",
    "        merged.append(left[i])\n",
    "        i += 1\n",
    "    \n",
    "    # Add the remaining elements from the right array\n",
    "    while j < len(right):\n",
    "        merged.append(right[j])\n",
    "        j += 1\n",
    "    \n",
    "    return merged\n"
   ]
  },
  {
   "cell_type": "markdown",
   "metadata": {},
   "source": [
    "calculating time complexity"
   ]
  },
  {
   "cell_type": "code",
   "execution_count": 4,
   "metadata": {
    "colab": {
     "base_uri": "https://localhost:8080/"
    },
    "id": "fZ8pSR3HxP5N",
    "outputId": "8a4ac5f6-a9c4-4fd2-cbc8-a7e42c45fa63"
   },
   "outputs": [
    {
     "name": "stdout",
     "output_type": "stream",
     "text": [
      "Enter the input size: 10\n",
      "Input size: 10 - Elapsed time: 0.0 seconds\n",
      "Enter the input size: 100\n",
      "Input size: 100 - Elapsed time: 0.0 seconds\n",
      "Enter the input size: 1000\n",
      "Input size: 1000 - Elapsed time: 0.014193058013916016 seconds\n",
      "Enter the input size: 10000\n",
      "Input size: 10000 - Elapsed time: 0.1625661849975586 seconds\n",
      "Enter the input size: 100000\n",
      "Input size: 100000 - Elapsed time: 1.4551236629486084 seconds\n"
     ]
    }
   ],
   "source": [
    "import time\n",
    "\n",
    "def calculate_time_complexity():\n",
    "\n",
    "    for _ in range(5):\n",
    "        size = int(input(\"Enter the input size: \"))\n",
    "        \n",
    "        # Generate a list of random numbers with the given size\n",
    "        numbers = [random.randint(1, 1000) for _ in range(size)]\n",
    "        \n",
    "        # Start the timer\n",
    "        start_time = time.time()\n",
    "        \n",
    "        # Call the merge_sort function\n",
    "        sorted_numbers = merge_sort(numbers)\n",
    "        \n",
    "        # Stop the timer\n",
    "        end_time = time.time()\n",
    "        \n",
    "        # Calculate the elapsed time\n",
    "        elapsed_time = end_time - start_time\n",
    "        \n",
    "        print(f\"Input size: {size} - Elapsed time: {elapsed_time} seconds\")\n",
    "\n",
    "calculate_time_complexity()\n"
   ]
  },
  {
   "cell_type": "code",
   "execution_count": null,
   "metadata": {
    "id": "IsfqrU4SxlrE"
   },
   "outputs": [],
   "source": []
  }
 ],
 "metadata": {
  "colab": {
   "provenance": []
  },
  "kernelspec": {
   "display_name": "Python 3 (ipykernel)",
   "language": "python",
   "name": "python3"
  },
  "language_info": {
   "codemirror_mode": {
    "name": "ipython",
    "version": 3
   },
   "file_extension": ".py",
   "mimetype": "text/x-python",
   "name": "python",
   "nbconvert_exporter": "python",
   "pygments_lexer": "ipython3",
   "version": "3.10.9"
  }
 },
 "nbformat": 4,
 "nbformat_minor": 1
}
